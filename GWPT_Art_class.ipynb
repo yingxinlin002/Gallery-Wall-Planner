{
 "cells": [
  {
   "cell_type": "code",
   "execution_count": 5,
   "id": "9ddbee72-4216-46d3-9df6-93a0a189d470",
   "metadata": {},
   "outputs": [],
   "source": [
    "class Artwork:\n",
    "    #Attributes\n",
    "    name = None\n",
    "    height = None\n",
    "    width = None\n",
    "    depth = None\n",
    "    hanging_point = None\n",
    "    #Initialize\n",
    "    def __init__(self, height, width, hanging_point, depth = None):\n",
    "        self.height = height\n",
    "        self.width = width\n",
    "        self.hanging_point = hanging_point\n",
    "        self.depth = depth\n",
    "    #Setters\n",
    "    def set_height(self, height):\n",
    "        self.height = height\n",
    "\n",
    "    def set_width(self, width):\n",
    "        self.width = width\n",
    "\n",
    "    def set_depth(self, depth):\n",
    "        self.depth = depth\n",
    "\n",
    "    def set_hanging_point(self,hanging_point):\n",
    "        self.hanging_point = hanging_point\n",
    "\n",
    "    #Getters\n",
    "    def get_height(self):\n",
    "        return(self.height)\n",
    "\n",
    "    def get_width(self):\n",
    "        return(self.width)\n",
    "\n",
    "    def get_depth(self):\n",
    "        return(self.depth)\n",
    "\n",
    "    def get_hanging_point(self):\n",
    "        return(self.hanging_point)"
   ]
  },
  {
   "cell_type": "code",
   "execution_count": null,
   "id": "64ca261f-9736-4c86-9692-0cfb5ff545a0",
   "metadata": {},
   "outputs": [],
   "source": []
  }
 ],
 "metadata": {
  "kernelspec": {
   "display_name": "Python 3 (ipykernel)",
   "language": "python",
   "name": "python3"
  },
  "language_info": {
   "codemirror_mode": {
    "name": "ipython",
    "version": 3
   },
   "file_extension": ".py",
   "mimetype": "text/x-python",
   "name": "python",
   "nbconvert_exporter": "python",
   "pygments_lexer": "ipython3",
   "version": "3.12.4"
  }
 },
 "nbformat": 4,
 "nbformat_minor": 5
}
