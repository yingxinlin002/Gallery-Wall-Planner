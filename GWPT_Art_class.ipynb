{
 "cells": [
  {
   "cell_type": "code",
   "execution_count": null,
   "id": "9ddbee72-4216-46d3-9df6-93a0a189d470",
   "metadata": {},
   "outputs": [],
   "source": [
    "class Wall:\n",
    "    #Attributes\n",
    "    name = None\n",
    "    width = None\n",
    "    height = None\n",
    "    color = \"#ffffff\" #Default is white, not required to change\n",
    "    #Initialize\n",
    "    def __init__(name, width, height, color = \"#ffffff\"):\n",
    "        self.name = name\n",
    "        self.width = width\n",
    "        self.height = height\n",
    "        self.color = color\n",
    "    #Setters\n",
    "    def set_name(self, name):\n",
    "        self.name = name\n",
    "        \n",
    "    def set_width(self, width):\n",
    "        self.width = width\n",
    "\n",
    "    def set_height(self, height):\n",
    "        self.height = height\n",
    "\n",
    "    def set_color(self, color):\n",
    "        self.color = color\n",
    "\n",
    "    #Getters\n",
    "    def get_name(self):\n",
    "        return(self.name)\n",
    "        \n",
    "    def get_width(self):\n",
    "        return(self.width)\n",
    "\n",
    "    def get_height(self):\n",
    "        return(self.height)\n",
    "\n",
    "    def get_color(self):\n",
    "        return(self.color)"
   ]
  }
 ],
 "metadata": {
  "kernelspec": {
   "display_name": "Python 3 (ipykernel)",
   "language": "python",
   "name": "python3"
  },
  "language_info": {
   "codemirror_mode": {
    "name": "ipython",
    "version": 3
   },
   "file_extension": ".py",
   "mimetype": "text/x-python",
   "name": "python",
   "nbconvert_exporter": "python",
   "pygments_lexer": "ipython3",
   "version": "3.12.4"
  }
 },
 "nbformat": 4,
 "nbformat_minor": 5
}
